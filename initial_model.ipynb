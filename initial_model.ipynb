{
 "cells": [
  {
   "cell_type": "markdown",
   "id": "f6dd7c27",
   "metadata": {},
   "source": [
    "Now we have a features.csv! Good Work Ani!"
   ]
  },
  {
   "cell_type": "markdown",
   "id": "0ec21594",
   "metadata": {},
   "source": [
    "Time to do some EDA and model making "
   ]
  },
  {
   "cell_type": "code",
   "execution_count": 1,
   "id": "f3af8865",
   "metadata": {},
   "outputs": [],
   "source": [
    "import pandas as pd \n",
    "import matplotlib.pyplot as plt\n",
    "import seaborn as sns\n",
    "import numpy as np "
   ]
  },
  {
   "cell_type": "code",
   "execution_count": 2,
   "id": "d6f0f097",
   "metadata": {},
   "outputs": [
    {
     "data": {
      "text/html": [
       "<div>\n",
       "<style scoped>\n",
       "    .dataframe tbody tr th:only-of-type {\n",
       "        vertical-align: middle;\n",
       "    }\n",
       "\n",
       "    .dataframe tbody tr th {\n",
       "        vertical-align: top;\n",
       "    }\n",
       "\n",
       "    .dataframe thead th {\n",
       "        text-align: right;\n",
       "    }\n",
       "</style>\n",
       "<table border=\"1\" class=\"dataframe\">\n",
       "  <thead>\n",
       "    <tr style=\"text-align: right;\">\n",
       "      <th></th>\n",
       "      <th>Video_Name</th>\n",
       "      <th>Category</th>\n",
       "      <th>Pull_Duration</th>\n",
       "      <th>Frames_Processed</th>\n",
       "      <th>color_progression</th>\n",
       "      <th>color_consistency</th>\n",
       "      <th>mid_phase_intensity</th>\n",
       "      <th>color_change_rate</th>\n",
       "      <th>flow_steadiness</th>\n",
       "      <th>flow_amplitude</th>\n",
       "      <th>flow_trend</th>\n",
       "      <th>brightness_momentum</th>\n",
       "      <th>brightness_acceleration</th>\n",
       "      <th>brightness_trend</th>\n",
       "      <th>overall_steadiness</th>\n",
       "      <th>phase_uniformity</th>\n",
       "      <th>transition_1_2_smoothness</th>\n",
       "      <th>transition_2_3_smoothness</th>\n",
       "      <th>overall_transition_quality</th>\n",
       "    </tr>\n",
       "  </thead>\n",
       "  <tbody>\n",
       "    <tr>\n",
       "      <th>0</th>\n",
       "      <td>vid_79_good</td>\n",
       "      <td>good</td>\n",
       "      <td>31.24</td>\n",
       "      <td>420</td>\n",
       "      <td>1.394</td>\n",
       "      <td>0.712</td>\n",
       "      <td>20.338</td>\n",
       "      <td>0.00332</td>\n",
       "      <td>0.0002</td>\n",
       "      <td>383</td>\n",
       "      <td>-39.24</td>\n",
       "      <td>0.101</td>\n",
       "      <td>0.1160</td>\n",
       "      <td>1.72</td>\n",
       "      <td>0.6761</td>\n",
       "      <td>0.4750</td>\n",
       "      <td>0.6590</td>\n",
       "      <td>0.8116</td>\n",
       "      <td>0.7353</td>\n",
       "    </tr>\n",
       "    <tr>\n",
       "      <th>1</th>\n",
       "      <td>vid_80_good</td>\n",
       "      <td>good</td>\n",
       "      <td>29.37</td>\n",
       "      <td>420</td>\n",
       "      <td>0.507</td>\n",
       "      <td>0.901</td>\n",
       "      <td>17.916</td>\n",
       "      <td>0.00121</td>\n",
       "      <td>0.0013</td>\n",
       "      <td>111</td>\n",
       "      <td>-18.66</td>\n",
       "      <td>0.062</td>\n",
       "      <td>0.0942</td>\n",
       "      <td>0.91</td>\n",
       "      <td>0.8465</td>\n",
       "      <td>0.6028</td>\n",
       "      <td>0.7143</td>\n",
       "      <td>0.7036</td>\n",
       "      <td>0.7090</td>\n",
       "    </tr>\n",
       "    <tr>\n",
       "      <th>2</th>\n",
       "      <td>vid_43_good</td>\n",
       "      <td>good</td>\n",
       "      <td>28.56</td>\n",
       "      <td>420</td>\n",
       "      <td>1.512</td>\n",
       "      <td>0.639</td>\n",
       "      <td>16.880</td>\n",
       "      <td>0.00360</td>\n",
       "      <td>0.0005</td>\n",
       "      <td>304</td>\n",
       "      <td>45.11</td>\n",
       "      <td>0.358</td>\n",
       "      <td>0.3824</td>\n",
       "      <td>0.06</td>\n",
       "      <td>0.8897</td>\n",
       "      <td>0.5594</td>\n",
       "      <td>0.6030</td>\n",
       "      <td>0.9343</td>\n",
       "      <td>0.7687</td>\n",
       "    </tr>\n",
       "    <tr>\n",
       "      <th>3</th>\n",
       "      <td>vid_14_good</td>\n",
       "      <td>good</td>\n",
       "      <td>27.28</td>\n",
       "      <td>420</td>\n",
       "      <td>2.784</td>\n",
       "      <td>0.373</td>\n",
       "      <td>17.099</td>\n",
       "      <td>0.00663</td>\n",
       "      <td>0.0009</td>\n",
       "      <td>227</td>\n",
       "      <td>-0.84</td>\n",
       "      <td>0.297</td>\n",
       "      <td>0.3509</td>\n",
       "      <td>13.32</td>\n",
       "      <td>0.7904</td>\n",
       "      <td>0.3289</td>\n",
       "      <td>0.7735</td>\n",
       "      <td>0.6900</td>\n",
       "      <td>0.7317</td>\n",
       "    </tr>\n",
       "    <tr>\n",
       "      <th>4</th>\n",
       "      <td>vid_22_good</td>\n",
       "      <td>good</td>\n",
       "      <td>25.65</td>\n",
       "      <td>420</td>\n",
       "      <td>4.956</td>\n",
       "      <td>0.155</td>\n",
       "      <td>19.943</td>\n",
       "      <td>0.01180</td>\n",
       "      <td>0.0002</td>\n",
       "      <td>359</td>\n",
       "      <td>57.24</td>\n",
       "      <td>0.262</td>\n",
       "      <td>0.2209</td>\n",
       "      <td>0.82</td>\n",
       "      <td>0.8354</td>\n",
       "      <td>0.1674</td>\n",
       "      <td>0.5150</td>\n",
       "      <td>0.5649</td>\n",
       "      <td>0.5400</td>\n",
       "    </tr>\n",
       "  </tbody>\n",
       "</table>\n",
       "</div>"
      ],
      "text/plain": [
       "    Video_Name Category  Pull_Duration  Frames_Processed  color_progression  \\\n",
       "0  vid_79_good     good          31.24               420              1.394   \n",
       "1  vid_80_good     good          29.37               420              0.507   \n",
       "2  vid_43_good     good          28.56               420              1.512   \n",
       "3  vid_14_good     good          27.28               420              2.784   \n",
       "4  vid_22_good     good          25.65               420              4.956   \n",
       "\n",
       "   color_consistency  mid_phase_intensity  color_change_rate  flow_steadiness  \\\n",
       "0              0.712               20.338            0.00332           0.0002   \n",
       "1              0.901               17.916            0.00121           0.0013   \n",
       "2              0.639               16.880            0.00360           0.0005   \n",
       "3              0.373               17.099            0.00663           0.0009   \n",
       "4              0.155               19.943            0.01180           0.0002   \n",
       "\n",
       "   flow_amplitude  flow_trend  brightness_momentum  brightness_acceleration  \\\n",
       "0             383      -39.24                0.101                   0.1160   \n",
       "1             111      -18.66                0.062                   0.0942   \n",
       "2             304       45.11                0.358                   0.3824   \n",
       "3             227       -0.84                0.297                   0.3509   \n",
       "4             359       57.24                0.262                   0.2209   \n",
       "\n",
       "   brightness_trend  overall_steadiness  phase_uniformity  \\\n",
       "0              1.72              0.6761            0.4750   \n",
       "1              0.91              0.8465            0.6028   \n",
       "2              0.06              0.8897            0.5594   \n",
       "3             13.32              0.7904            0.3289   \n",
       "4              0.82              0.8354            0.1674   \n",
       "\n",
       "   transition_1_2_smoothness  transition_2_3_smoothness  \\\n",
       "0                     0.6590                     0.8116   \n",
       "1                     0.7143                     0.7036   \n",
       "2                     0.6030                     0.9343   \n",
       "3                     0.7735                     0.6900   \n",
       "4                     0.5150                     0.5649   \n",
       "\n",
       "   overall_transition_quality  \n",
       "0                      0.7353  \n",
       "1                      0.7090  \n",
       "2                      0.7687  \n",
       "3                      0.7317  \n",
       "4                      0.5400  "
      ]
     },
     "execution_count": 2,
     "metadata": {},
     "output_type": "execute_result"
    }
   ],
   "source": [
    "df = pd.read_csv(\"/Users/r3alistic/Programming/CoffeeCV/features_v2.csv\")\n",
    "df.head()"
   ]
  },
  {
   "cell_type": "markdown",
   "id": "4f7c857a",
   "metadata": {},
   "source": [
    "Right now there are no missing values, but just drop them if there are."
   ]
  },
  {
   "cell_type": "code",
   "execution_count": 6,
   "id": "bd7c6a80",
   "metadata": {},
   "outputs": [],
   "source": [
    "df.dropna(axis=0,inplace=True)"
   ]
  },
  {
   "cell_type": "code",
   "execution_count": 7,
   "id": "9fa5623f",
   "metadata": {},
   "outputs": [
    {
     "data": {
      "text/plain": [
       "Video_Name                    0\n",
       "Category                      0\n",
       "Pull_Duration                 0\n",
       "Frames_Processed              0\n",
       "color_progression             0\n",
       "color_consistency             0\n",
       "mid_phase_intensity           0\n",
       "color_change_rate             0\n",
       "flow_steadiness               0\n",
       "flow_amplitude                0\n",
       "flow_trend                    0\n",
       "brightness_momentum           0\n",
       "brightness_acceleration       0\n",
       "brightness_trend              0\n",
       "overall_steadiness            0\n",
       "phase_uniformity              0\n",
       "transition_1_2_smoothness     0\n",
       "transition_2_3_smoothness     0\n",
       "overall_transition_quality    0\n",
       "dtype: int64"
      ]
     },
     "execution_count": 7,
     "metadata": {},
     "output_type": "execute_result"
    }
   ],
   "source": [
    "df.isna().sum()"
   ]
  },
  {
   "cell_type": "markdown",
   "id": "d42e6cd3",
   "metadata": {},
   "source": [
    "Now just for sanity, check for duplicates"
   ]
  },
  {
   "cell_type": "code",
   "execution_count": 11,
   "id": "63ff6798",
   "metadata": {},
   "outputs": [
    {
     "data": {
      "text/plain": [
       "True"
      ]
     },
     "execution_count": 11,
     "metadata": {},
     "output_type": "execute_result"
    }
   ],
   "source": [
    "len(df[\"Video_Name\"]) == len(set(df[\"Video_Name\"]))"
   ]
  },
  {
   "cell_type": "code",
   "execution_count": 12,
   "id": "24b62be6",
   "metadata": {},
   "outputs": [
    {
     "data": {
      "text/plain": [
       "81"
      ]
     },
     "execution_count": 12,
     "metadata": {},
     "output_type": "execute_result"
    }
   ],
   "source": [
    "len(df[\"Video_Name\"])"
   ]
  },
  {
   "cell_type": "markdown",
   "id": "010fa516",
   "metadata": {},
   "source": [
    "What is some EDA visualization that I can do?"
   ]
  },
  {
   "cell_type": "markdown",
   "id": "7ecc99e5",
   "metadata": {},
   "source": [
    "Maybe I can do boxplots and historgrams for each category. I can see the central tendencies for our numerics"
   ]
  },
  {
   "cell_type": "code",
   "execution_count": 9,
   "id": "186c6337",
   "metadata": {},
   "outputs": [
    {
     "data": {
      "image/png": "[encoded data removed]",
      "text/plain": [
       "<Figure size 1000x800 with 20 Axes>"
      ]
     },
     "metadata": {},
     "output_type": "display_data"
    }
   ],
   "source": [
    "df.hist(bins=50,figsize=(10,8))\n",
    "plt.show()"
   ]
  },
  {
   "cell_type": "code",
   "execution_count": 13,
   "id": "56107622",
   "metadata": {},
   "outputs": [
    {
     "data": {
      "image/png": "[encoded data removed]",
      "text/plain": [
       "<Figure size 400x200 with 1 Axes>"
      ]
     },
     "metadata": {},
     "output_type": "display_data"
    }
   ],
   "source": [
    "plt.figure(figsize=(4,2))\n",
    "plt.boxplot(df[\"color_consistency\"])\n",
    "plt.title(\"Boxplot for Avg Stream Width Distribution\")\n",
    "plt.show()"
   ]
  },
  {
   "cell_type": "markdown",
   "id": "2f1d79b7",
   "metadata": {},
   "source": [
    "Idea: check the average stream width for each category, so use groupby"
   ]
  },
  {
   "cell_type": "code",
   "execution_count": 10,
   "id": "f7c365de",
   "metadata": {},
   "outputs": [
    {
     "data": {
      "text/html": [
       "<div>\n",
       "<style scoped>\n",
       "    .dataframe tbody tr th:only-of-type {\n",
       "        vertical-align: middle;\n",
       "    }\n",
       "\n",
       "    .dataframe tbody tr th {\n",
       "        vertical-align: top;\n",
       "    }\n",
       "\n",
       "    .dataframe thead th {\n",
       "        text-align: right;\n",
       "    }\n",
       "</style>\n",
       "<table border=\"1\" class=\"dataframe\">\n",
       "  <thead>\n",
       "    <tr style=\"text-align: right;\">\n",
       "      <th></th>\n",
       "      <th>Pull_Duration</th>\n",
       "      <th>Frames_Processed</th>\n",
       "      <th>color_progression</th>\n",
       "      <th>color_consistency</th>\n",
       "      <th>mid_phase_intensity</th>\n",
       "      <th>color_change_rate</th>\n",
       "      <th>flow_steadiness</th>\n",
       "      <th>flow_amplitude</th>\n",
       "      <th>flow_trend</th>\n",
       "      <th>brightness_momentum</th>\n",
       "      <th>brightness_acceleration</th>\n",
       "      <th>brightness_trend</th>\n",
       "      <th>overall_steadiness</th>\n",
       "      <th>phase_uniformity</th>\n",
       "      <th>transition_1_2_smoothness</th>\n",
       "      <th>transition_2_3_smoothness</th>\n",
       "      <th>overall_transition_quality</th>\n",
       "    </tr>\n",
       "  </thead>\n",
       "  <tbody>\n",
       "    <tr>\n",
       "      <th>count</th>\n",
       "      <td>81.000000</td>\n",
       "      <td>81.000000</td>\n",
       "      <td>81.000000</td>\n",
       "      <td>81.000000</td>\n",
       "      <td>81.000000</td>\n",
       "      <td>81.000000</td>\n",
       "      <td>81.000000</td>\n",
       "      <td>81.000000</td>\n",
       "      <td>81.000000</td>\n",
       "      <td>81.000000</td>\n",
       "      <td>81.000000</td>\n",
       "      <td>81.000000</td>\n",
       "      <td>81.000000</td>\n",
       "      <td>81.000000</td>\n",
       "      <td>81.000000</td>\n",
       "      <td>81.000000</td>\n",
       "      <td>81.000000</td>\n",
       "    </tr>\n",
       "    <tr>\n",
       "      <th>mean</th>\n",
       "      <td>28.443951</td>\n",
       "      <td>414.493827</td>\n",
       "      <td>1.388938</td>\n",
       "      <td>0.650123</td>\n",
       "      <td>18.400988</td>\n",
       "      <td>0.003668</td>\n",
       "      <td>0.004125</td>\n",
       "      <td>221.382716</td>\n",
       "      <td>13.470741</td>\n",
       "      <td>0.229654</td>\n",
       "      <td>0.275609</td>\n",
       "      <td>3.668025</td>\n",
       "      <td>0.774635</td>\n",
       "      <td>0.401763</td>\n",
       "      <td>0.769296</td>\n",
       "      <td>0.773744</td>\n",
       "      <td>0.771519</td>\n",
       "    </tr>\n",
       "    <tr>\n",
       "      <th>std</th>\n",
       "      <td>8.367780</td>\n",
       "      <td>24.483731</td>\n",
       "      <td>1.303075</td>\n",
       "      <td>0.237041</td>\n",
       "      <td>2.800842</td>\n",
       "      <td>0.002854</td>\n",
       "      <td>0.008733</td>\n",
       "      <td>120.847587</td>\n",
       "      <td>66.064600</td>\n",
       "      <td>0.168697</td>\n",
       "      <td>0.251767</td>\n",
       "      <td>4.450228</td>\n",
       "      <td>0.138096</td>\n",
       "      <td>0.144173</td>\n",
       "      <td>0.125520</td>\n",
       "      <td>0.114413</td>\n",
       "      <td>0.095987</td>\n",
       "    </tr>\n",
       "    <tr>\n",
       "      <th>min</th>\n",
       "      <td>8.640000</td>\n",
       "      <td>256.000000</td>\n",
       "      <td>-1.923000</td>\n",
       "      <td>0.139000</td>\n",
       "      <td>12.749000</td>\n",
       "      <td>0.000000</td>\n",
       "      <td>0.000000</td>\n",
       "      <td>33.000000</td>\n",
       "      <td>-151.380000</td>\n",
       "      <td>0.043000</td>\n",
       "      <td>0.050300</td>\n",
       "      <td>-5.700000</td>\n",
       "      <td>0.338700</td>\n",
       "      <td>0.144800</td>\n",
       "      <td>0.439500</td>\n",
       "      <td>0.410600</td>\n",
       "      <td>0.540000</td>\n",
       "    </tr>\n",
       "    <tr>\n",
       "      <th>25%</th>\n",
       "      <td>25.010000</td>\n",
       "      <td>420.000000</td>\n",
       "      <td>0.664000</td>\n",
       "      <td>0.445000</td>\n",
       "      <td>16.143000</td>\n",
       "      <td>0.001810</td>\n",
       "      <td>0.000200</td>\n",
       "      <td>116.000000</td>\n",
       "      <td>-14.210000</td>\n",
       "      <td>0.102000</td>\n",
       "      <td>0.112800</td>\n",
       "      <td>1.350000</td>\n",
       "      <td>0.691000</td>\n",
       "      <td>0.318600</td>\n",
       "      <td>0.677700</td>\n",
       "      <td>0.701100</td>\n",
       "      <td>0.709000</td>\n",
       "    </tr>\n",
       "    <tr>\n",
       "      <th>50%</th>\n",
       "      <td>28.900000</td>\n",
       "      <td>420.000000</td>\n",
       "      <td>1.127000</td>\n",
       "      <td>0.714000</td>\n",
       "      <td>18.183000</td>\n",
       "      <td>0.002780</td>\n",
       "      <td>0.000900</td>\n",
       "      <td>219.000000</td>\n",
       "      <td>0.850000</td>\n",
       "      <td>0.188000</td>\n",
       "      <td>0.183400</td>\n",
       "      <td>2.710000</td>\n",
       "      <td>0.819500</td>\n",
       "      <td>0.369600</td>\n",
       "      <td>0.753900</td>\n",
       "      <td>0.772500</td>\n",
       "      <td>0.760600</td>\n",
       "    </tr>\n",
       "    <tr>\n",
       "      <th>75%</th>\n",
       "      <td>31.100000</td>\n",
       "      <td>420.000000</td>\n",
       "      <td>1.946000</td>\n",
       "      <td>0.827000</td>\n",
       "      <td>20.899000</td>\n",
       "      <td>0.004760</td>\n",
       "      <td>0.003100</td>\n",
       "      <td>348.000000</td>\n",
       "      <td>22.940000</td>\n",
       "      <td>0.297000</td>\n",
       "      <td>0.346200</td>\n",
       "      <td>4.430000</td>\n",
       "      <td>0.879900</td>\n",
       "      <td>0.500100</td>\n",
       "      <td>0.869800</td>\n",
       "      <td>0.849800</td>\n",
       "      <td>0.842100</td>\n",
       "    </tr>\n",
       "    <tr>\n",
       "      <th>max</th>\n",
       "      <td>68.000000</td>\n",
       "      <td>420.000000</td>\n",
       "      <td>5.475000</td>\n",
       "      <td>0.994000</td>\n",
       "      <td>24.348000</td>\n",
       "      <td>0.013040</td>\n",
       "      <td>0.056500</td>\n",
       "      <td>383.000000</td>\n",
       "      <td>286.500000</td>\n",
       "      <td>0.848000</td>\n",
       "      <td>1.244900</td>\n",
       "      <td>19.000000</td>\n",
       "      <td>0.949800</td>\n",
       "      <td>0.861400</td>\n",
       "      <td>0.994300</td>\n",
       "      <td>0.989200</td>\n",
       "      <td>0.971500</td>\n",
       "    </tr>\n",
       "  </tbody>\n",
       "</table>\n",
       "</div>"
      ],
      "text/plain": [
       "       Pull_Duration  Frames_Processed  color_progression  color_consistency  \\\n",
       "count      81.000000         81.000000          81.000000          81.000000   \n",
       "mean       28.443951        414.493827           1.388938           0.650123   \n",
       "std         8.367780         24.483731           1.303075           0.237041   \n",
       "min         8.640000        256.000000          -1.923000           0.139000   \n",
       "25%        25.010000        420.000000           0.664000           0.445000   \n",
       "50%        28.900000        420.000000           1.127000           0.714000   \n",
       "75%        31.100000        420.000000           1.946000           0.827000   \n",
       "max        68.000000        420.000000           5.475000           0.994000   \n",
       "\n",
       "       mid_phase_intensity  color_change_rate  flow_steadiness  \\\n",
       "count            81.000000          81.000000        81.000000   \n",
       "mean             18.400988           0.003668         0.004125   \n",
       "std               2.800842           0.002854         0.008733   \n",
       "min              12.749000           0.000000         0.000000   \n",
       "25%              16.143000           0.001810         0.000200   \n",
       "50%              18.183000           0.002780         0.000900   \n",
       "75%              20.899000           0.004760         0.003100   \n",
       "max              24.348000           0.013040         0.056500   \n",
       "\n",
       "       flow_amplitude  flow_trend  brightness_momentum  \\\n",
       "count       81.000000   81.000000            81.000000   \n",
       "mean       221.382716   13.470741             0.229654   \n",
       "std        120.847587   66.064600             0.168697   \n",
       "min         33.000000 -151.380000             0.043000   \n",
       "25%        116.000000  -14.210000             0.102000   \n",
       "50%        219.000000    0.850000             0.188000   \n",
       "75%        348.000000   22.940000             0.297000   \n",
       "max        383.000000  286.500000             0.848000   \n",
       "\n",
       "       brightness_acceleration  brightness_trend  overall_steadiness  \\\n",
       "count                81.000000         81.000000           81.000000   \n",
       "mean                  0.275609          3.668025            0.774635   \n",
       "std                   0.251767          4.450228            0.138096   \n",
       "min                   0.050300         -5.700000            0.338700   \n",
       "25%                   0.112800          1.350000            0.691000   \n",
       "50%                   0.183400          2.710000            0.819500   \n",
       "75%                   0.346200          4.430000            0.879900   \n",
       "max                   1.244900         19.000000            0.949800   \n",
       "\n",
       "       phase_uniformity  transition_1_2_smoothness  transition_2_3_smoothness  \\\n",
       "count         81.000000                  81.000000                  81.000000   \n",
       "mean           0.401763                   0.769296                   0.773744   \n",
       "std            0.144173                   0.125520                   0.114413   \n",
       "min            0.144800                   0.439500                   0.410600   \n",
       "25%            0.318600                   0.677700                   0.701100   \n",
       "50%            0.369600                   0.753900                   0.772500   \n",
       "75%            0.500100                   0.869800                   0.849800   \n",
       "max            0.861400                   0.994300                   0.989200   \n",
       "\n",
       "       overall_transition_quality  \n",
       "count                   81.000000  \n",
       "mean                     0.771519  \n",
       "std                      0.095987  \n",
       "min                      0.540000  \n",
       "25%                      0.709000  \n",
       "50%                      0.760600  \n",
       "75%                      0.842100  \n",
       "max                      0.971500  "
      ]
     },
     "execution_count": 10,
     "metadata": {},
     "output_type": "execute_result"
    }
   ],
   "source": [
    "df.describe()"
   ]
  },
  {
   "cell_type": "markdown",
   "id": "4928ea44",
   "metadata": {},
   "source": [
    "# Train Test Split\n",
    "\n",
    "(Even with an abysmally low amount of data)"
   ]
  },
  {
   "cell_type": "code",
   "execution_count": 14,
   "id": "42abb458",
   "metadata": {},
   "outputs": [],
   "source": [
    "from sklearn.model_selection import train_test_split\n",
    "from sklearn.preprocessing import StandardScaler, LabelEncoder\n",
    "\n",
    "# Separate features and target\n",
    "X = df.drop(columns=[\"Category\", \"Video_Name\",\"Frames_Processed\"])\n",
    "y = df[\"Category\"].to_numpy()\n",
    "\n",
    "# Encode target labels as integers (ex: good = 0, under = 1, over = 2). OneHotEncoder would be too much here. Just labels in the same column is fine\n",
    "label_encoder = LabelEncoder()\n",
    "y_encoded = label_encoder.fit_transform(y)\n",
    "\n",
    "# Scale numeric features\n",
    "scaler = StandardScaler()\n",
    "X_scaled = scaler.fit_transform(X)\n",
    "#and then on new data, just .transform()\n",
    "\n",
    "# Split the data (use scaled X!)\n",
    "X_train, X_test, y_train, y_test = train_test_split(\n",
    "    X_scaled, y_encoded, test_size=0.2, random_state=42, stratify=y_encoded\n",
    ")"
   ]
  },
  {
   "cell_type": "markdown",
   "id": "285fcfad",
   "metadata": {},
   "source": [
    "Previously, the label encoder gave an error because \"over\" only had one video, and we need at least 2. So we fixed that hehe. And stratifying makes it even better. "
   ]
  },
  {
   "cell_type": "markdown",
   "id": "5efb56ac",
   "metadata": {},
   "source": [
    "So now let's make a bare bones Classification model"
   ]
  },
  {
   "cell_type": "markdown",
   "id": "c42f8170",
   "metadata": {},
   "source": [
    "# Model Building"
   ]
  },
  {
   "cell_type": "code",
   "execution_count": 15,
   "id": "8a00d490",
   "metadata": {},
   "outputs": [],
   "source": [
    "from sklearn.linear_model import LogisticRegression, RidgeClassifier\n",
    "from sklearn.ensemble import RandomForestClassifier"
   ]
  },
  {
   "cell_type": "markdown",
   "id": "f4cb2424",
   "metadata": {},
   "source": [
    "We can play around with logistic regression first. This time, we are going to include class weights since we have very robust features"
   ]
  },
  {
   "cell_type": "code",
   "execution_count": 34,
   "id": "f490ad1a",
   "metadata": {},
   "outputs": [],
   "source": [
    "from sklearn.utils.class_weight import compute_class_weight"
   ]
  },
  {
   "cell_type": "code",
   "execution_count": 35,
   "id": "dc112664",
   "metadata": {},
   "outputs": [],
   "source": [
    "#Auto Balance class weights\n",
    "\n",
    "class_weights = compute_class_weight(class_weight=\"balanced\",classes=np.unique(y_encoded),y=y_encoded)\n",
    "weight_dict = dict(zip(np.unique(y_encoded), class_weights))"
   ]
  },
  {
   "cell_type": "code",
   "execution_count": 36,
   "id": "15364c06",
   "metadata": {},
   "outputs": [],
   "source": [
    "#model object\n",
    "logReg = LogisticRegression(class_weight=weight_dict)\n",
    "\n",
    "#train the model\n",
    "logReg.fit(X_train,y_train)\n",
    "\n",
    "y_pred_train_logReg = logReg.predict(X_train)"
   ]
  },
  {
   "cell_type": "markdown",
   "id": "56af799e",
   "metadata": {},
   "source": [
    "Let's get some training scores"
   ]
  },
  {
   "cell_type": "code",
   "execution_count": 37,
   "id": "2885e3cf",
   "metadata": {},
   "outputs": [],
   "source": [
    "from sklearn.metrics import confusion_matrix,accuracy_score,f1_score"
   ]
  },
  {
   "cell_type": "code",
   "execution_count": 38,
   "id": "9ff2cc84",
   "metadata": {},
   "outputs": [],
   "source": [
    "cm = confusion_matrix(y_train,y_pred_train_logReg)"
   ]
  },
  {
   "cell_type": "code",
   "execution_count": 39,
   "id": "1a6f6179",
   "metadata": {},
   "outputs": [
    {
     "data": {
      "image/png": "[encoded data removed]",
      "text/plain": [
       "<Figure size 500x400 with 1 Axes>"
      ]
     },
     "metadata": {},
     "output_type": "display_data"
    }
   ],
   "source": [
    "plt.figure(figsize=(5,4))\n",
    "sns.heatmap(cm,annot=True,cmap=\"crest\",linewidth=0.5,xticklabels=label_encoder.classes_, yticklabels=label_encoder.classes_,cbar=False)\n",
    "plt.xlabel(\"Pred\")\n",
    "plt.ylabel(\"Actual\")\n",
    "plt.show()"
   ]
  },
  {
   "cell_type": "code",
   "execution_count": 40,
   "id": "d79e7db6",
   "metadata": {},
   "outputs": [
    {
     "data": {
      "text/plain": [
       "0.859375"
      ]
     },
     "execution_count": 40,
     "metadata": {},
     "output_type": "execute_result"
    }
   ],
   "source": [
    "accuracy_score(y_train,y_pred_train_logReg)"
   ]
  },
  {
   "cell_type": "code",
   "execution_count": 41,
   "id": "7cc7d8ea",
   "metadata": {},
   "outputs": [
    {
     "name": "stdout",
     "output_type": "stream",
     "text": [
      "CV Accuracy: 0.705 (+/- 0.169)\n"
     ]
    },
    {
     "name": "stderr",
     "output_type": "stream",
     "text": [
      "/opt/anaconda3/envs/coffeecv/lib/python3.11/site-packages/sklearn/model_selection/_split.py:805: UserWarning: The least populated class in y has only 4 members, which is less than n_splits=5.\n",
      "  warnings.warn(\n"
     ]
    }
   ],
   "source": [
    "from sklearn.model_selection import cross_val_score\n",
    "\n",
    "# Instead of just train/test split\n",
    "cv_scores = cross_val_score(logReg, X_scaled, y_encoded, cv=5, scoring='accuracy')\n",
    "print(f\"CV Accuracy: {cv_scores.mean():.3f} (+/- {cv_scores.std() * 2:.3f})\")"
   ]
  },
  {
   "cell_type": "markdown",
   "id": "98240e7a",
   "metadata": {},
   "source": [
    "f1_score is good for binary only I think"
   ]
  },
  {
   "cell_type": "markdown",
   "id": "afb69b98",
   "metadata": {},
   "source": [
    "So what all did I learn? \n",
    "- Label Encoder will help with simple 0,1,2 , but you need at least 2 in each category\n",
    "- Label Encoder Object has an attribute that comes after fitting called .classes_ , and it gives an array of the classes. So I used that in the heatmap for accurate labeling. \n",
    "- l2 regularization is the default for Logistic Regression\n",
    "- My data pipeline and feature engine is duplicate-proof and will overwrite correctly!"
   ]
  },
  {
   "cell_type": "markdown",
   "id": "8fdbc570",
   "metadata": {},
   "source": [
    "08/16/2025 and I am back at it with the ML. This I am comfortable it. With nothing-too-fancy data pre processing, I got an initial training score of 0.90625 for Logistic Regression. That is so much better than before. "
   ]
  },
  {
   "cell_type": "markdown",
   "id": "dd4bf45c",
   "metadata": {},
   "source": [
    "### Seaborn cmap cheat sheet"
   ]
  },
  {
   "cell_type": "markdown",
   "id": "48d1b335",
   "metadata": {},
   "source": [
    "| Name        | Description                         | Preview                    |\n",
    "| ----------- | ----------------------------------- | -------------------------- |\n",
    "| `\"viridis\"` | perceptually uniform, great default | 🔰 smooth green → yellow   |\n",
    "| `\"plasma\"`  | bright purples and yellows          | 🔮 purple → orange/yellow  |\n",
    "| `\"inferno\"` | dark red to yellow                  | 🔥 black → red → yellow    |\n",
    "| `\"magma\"`   | dark purple to yellow               | 🌋 black → purple → yellow |\n",
    "| `\"crest\"`   | cool teal/blue to soft purple       | 🌊 seafoam → violet        |\n",
    "| `\"flare\"`   | bright warm tones                   | 🌅 red → orange → yellow   |\n",
    "| `\"rocket\"`  | darker version of flare             | 🚀 black → red → pink      |\n"
   ]
  },
  {
   "cell_type": "markdown",
   "id": "0aebdcda",
   "metadata": {},
   "source": [
    "| Name         | Description                     | Preview      |\n",
    "| ------------ | ------------------------------- | ------------ |\n",
    "| `\"coolwarm\"` | blue → white → red              | ❄️  → ⚪ → 🔥 |\n",
    "| `\"seismic\"`  | blue → white → red (stronger)   | 🌊  → ⚪ → 🌋 |\n",
    "| `\"vlag\"`     | soft blue to soft red           | 🩵  → ⚪ → 🩷 |\n",
    "| `\"icefire\"`  | cool to warm with high contrast | 🧊  → ⚪ → 🔥 |\n"
   ]
  },
  {
   "cell_type": "markdown",
   "id": "12838fcb",
   "metadata": {},
   "source": [
    "| Name        | Description                  |\n",
    "| ----------- | ---------------------------- |\n",
    "| `\"tab10\"`   | 10 distinct colors (default) |\n",
    "| `\"Set1\"`    | bright, bold colors          |\n",
    "| `\"Set2\"`    | softer, muted colors         |\n",
    "| `\"Pastel1\"` | soft pastel tones            |\n",
    "| `\"Dark2\"`   | deeper, high-contrast colors |\n"
   ]
  },
  {
   "cell_type": "markdown",
   "id": "4c1947bc",
   "metadata": {},
   "source": [
    "Since we have such less amount of data, it might be good to do GridSearchCV"
   ]
  },
  {
   "cell_type": "markdown",
   "id": "e340c6b7",
   "metadata": {},
   "source": [
    "We need more overextracted for better results"
   ]
  },
  {
   "cell_type": "markdown",
   "id": "5d3c2e0e",
   "metadata": {},
   "source": [
    "### Dare I say, let's deploy and see what happens"
   ]
  },
  {
   "cell_type": "code",
   "execution_count": 43,
   "id": "c9af3cc6",
   "metadata": {},
   "outputs": [],
   "source": [
    "y_pred__lr = logReg.predict(X_test)"
   ]
  },
  {
   "cell_type": "code",
   "execution_count": 44,
   "id": "da626d8d",
   "metadata": {},
   "outputs": [
    {
     "data": {
      "text/plain": [
       "0.47058823529411764"
      ]
     },
     "execution_count": 44,
     "metadata": {},
     "output_type": "execute_result"
    }
   ],
   "source": [
    "accuracy_score(y_test,y_pred__lr)"
   ]
  },
  {
   "cell_type": "markdown",
   "id": "d28b5b45",
   "metadata": {},
   "source": [
    "Well well well. We got some work to do indeed. \n",
    "\n",
    "Possible impediments:\n",
    "- Lack of Model Complexity \n",
    "- Overfitting due to so many features\n",
    "- Not enough data"
   ]
  },
  {
   "cell_type": "code",
   "execution_count": null,
   "id": "864d168f",
   "metadata": {},
   "outputs": [],
   "source": []
  }
 ],
 "metadata": {
  "kernelspec": {
   "display_name": "coffeecv",
   "language": "python",
   "name": "python3"
  },
  "language_info": {
   "codemirror_mode": {
    "name": "ipython",
    "version": 3
   },
   "file_extension": ".py",
   "mimetype": "text/x-python",
   "name": "python",
   "nbconvert_exporter": "python",
   "pygments_lexer": "ipython3",
   "version": "3.11.13"
  }
 },
 "nbformat": 4,
 "nbformat_minor": 5
}
