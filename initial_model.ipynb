{
 "cells": [
  {
   "cell_type": "markdown",
   "id": "f6dd7c27",
   "metadata": {},
   "source": [
    "Now we have a features.csv! Good Work Ani!"
   ]
  },
  {
   "cell_type": "markdown",
   "id": "0ec21594",
   "metadata": {},
   "source": [
    "Time to do some EDA and model making "
   ]
  },
  {
   "cell_type": "code",
   "execution_count": 1,
   "id": "f3af8865",
   "metadata": {},
   "outputs": [],
   "source": [
    "import pandas as pd \n",
    "import matplotlib.pyplot as plt\n",
    "import numpy as np "
   ]
  },
  {
   "cell_type": "code",
   "execution_count": 2,
   "id": "d6f0f097",
   "metadata": {},
   "outputs": [
    {
     "data": {
      "text/html": [
       "<div>\n",
       "<style scoped>\n",
       "    .dataframe tbody tr th:only-of-type {\n",
       "        vertical-align: middle;\n",
       "    }\n",
       "\n",
       "    .dataframe tbody tr th {\n",
       "        vertical-align: top;\n",
       "    }\n",
       "\n",
       "    .dataframe thead th {\n",
       "        text-align: right;\n",
       "    }\n",
       "</style>\n",
       "<table border=\"1\" class=\"dataframe\">\n",
       "  <thead>\n",
       "    <tr style=\"text-align: right;\">\n",
       "      <th></th>\n",
       "      <th>Video_Name</th>\n",
       "      <th>Category</th>\n",
       "      <th>Avg_Hue</th>\n",
       "      <th>Avg_Brightness</th>\n",
       "      <th>Pull_Duration</th>\n",
       "      <th>Flow_Variance</th>\n",
       "      <th>Avg_Stream_Width</th>\n",
       "    </tr>\n",
       "  </thead>\n",
       "  <tbody>\n",
       "    <tr>\n",
       "      <th>0</th>\n",
       "      <td>vid_14_good</td>\n",
       "      <td>good</td>\n",
       "      <td>32.14</td>\n",
       "      <td>119.23</td>\n",
       "      <td>27.28</td>\n",
       "      <td>6.481446</td>\n",
       "      <td>672.993939</td>\n",
       "    </tr>\n",
       "    <tr>\n",
       "      <th>1</th>\n",
       "      <td>vid_22_good</td>\n",
       "      <td>good</td>\n",
       "      <td>35.57</td>\n",
       "      <td>125.05</td>\n",
       "      <td>25.65</td>\n",
       "      <td>5.425358</td>\n",
       "      <td>536.084848</td>\n",
       "    </tr>\n",
       "    <tr>\n",
       "      <th>2</th>\n",
       "      <td>vid_19_good</td>\n",
       "      <td>good</td>\n",
       "      <td>35.80</td>\n",
       "      <td>121.09</td>\n",
       "      <td>25.41</td>\n",
       "      <td>1.345650</td>\n",
       "      <td>329.800000</td>\n",
       "    </tr>\n",
       "    <tr>\n",
       "      <th>3</th>\n",
       "      <td>vid_1_good</td>\n",
       "      <td>good</td>\n",
       "      <td>30.46</td>\n",
       "      <td>127.24</td>\n",
       "      <td>13.75</td>\n",
       "      <td>3.486998</td>\n",
       "      <td>749.745455</td>\n",
       "    </tr>\n",
       "    <tr>\n",
       "      <th>4</th>\n",
       "      <td>vid_15_good</td>\n",
       "      <td>good</td>\n",
       "      <td>30.81</td>\n",
       "      <td>113.55</td>\n",
       "      <td>24.05</td>\n",
       "      <td>3.563808</td>\n",
       "      <td>781.863636</td>\n",
       "    </tr>\n",
       "  </tbody>\n",
       "</table>\n",
       "</div>"
      ],
      "text/plain": [
       "    Video_Name Category  Avg_Hue  Avg_Brightness  Pull_Duration  \\\n",
       "0  vid_14_good     good    32.14          119.23          27.28   \n",
       "1  vid_22_good     good    35.57          125.05          25.65   \n",
       "2  vid_19_good     good    35.80          121.09          25.41   \n",
       "3   vid_1_good     good    30.46          127.24          13.75   \n",
       "4  vid_15_good     good    30.81          113.55          24.05   \n",
       "\n",
       "   Flow_Variance  Avg_Stream_Width  \n",
       "0       6.481446        672.993939  \n",
       "1       5.425358        536.084848  \n",
       "2       1.345650        329.800000  \n",
       "3       3.486998        749.745455  \n",
       "4       3.563808        781.863636  "
      ]
     },
     "execution_count": 2,
     "metadata": {},
     "output_type": "execute_result"
    }
   ],
   "source": [
    "df = pd.read_csv(\"/Users/r3alistic/Programming/CoffeeCV/features.csv\")\n",
    "df.head()"
   ]
  },
  {
   "cell_type": "markdown",
   "id": "4f7c857a",
   "metadata": {},
   "source": [
    "Right now there are no missing values, but just drop them if there are."
   ]
  },
  {
   "cell_type": "markdown",
   "id": "d42e6cd3",
   "metadata": {},
   "source": [
    "Now just for sanity, check for duplicates"
   ]
  },
  {
   "cell_type": "code",
   "execution_count": 3,
   "id": "63ff6798",
   "metadata": {},
   "outputs": [
    {
     "data": {
      "text/plain": [
       "True"
      ]
     },
     "execution_count": 3,
     "metadata": {},
     "output_type": "execute_result"
    }
   ],
   "source": [
    "len(df[\"Video_Name\"]) == len(set(df[\"Video_Name\"]))"
   ]
  },
  {
   "cell_type": "code",
   "execution_count": 4,
   "id": "24b62be6",
   "metadata": {},
   "outputs": [
    {
     "data": {
      "text/plain": [
       "40"
      ]
     },
     "execution_count": 4,
     "metadata": {},
     "output_type": "execute_result"
    }
   ],
   "source": [
    "len(df[\"Video_Name\"])"
   ]
  },
  {
   "cell_type": "markdown",
   "id": "010fa516",
   "metadata": {},
   "source": [
    "What is some EDA visualization that I can do?"
   ]
  },
  {
   "cell_type": "markdown",
   "id": "7ecc99e5",
   "metadata": {},
   "source": [
    "Maybe I can do boxplots and historgrams for each category. I can see the central tendencies for our numerics"
   ]
  },
  {
   "cell_type": "code",
   "execution_count": 5,
   "id": "186c6337",
   "metadata": {},
   "outputs": [
    {
     "data": {
      "text/plain": [
       "array([[<Axes: title={'center': 'Avg_Hue'}>,\n",
       "        <Axes: title={'center': 'Avg_Brightness'}>],\n",
       "       [<Axes: title={'center': 'Pull_Duration'}>,\n",
       "        <Axes: title={'center': 'Flow_Variance'}>],\n",
       "       [<Axes: title={'center': 'Avg_Stream_Width'}>, <Axes: >]],\n",
       "      dtype=object)"
      ]
     },
     "execution_count": 5,
     "metadata": {},
     "output_type": "execute_result"
    },
    {
     "data": {
      "image/png": "[encoded data removed]",
      "text/plain": [
       "<Figure size 1000x800 with 6 Axes>"
      ]
     },
     "metadata": {},
     "output_type": "display_data"
    }
   ],
   "source": [
    "df[[\"Avg_Hue\",\"Avg_Brightness\",\"Pull_Duration\",\"Flow_Variance\",\"Avg_Stream_Width\"]].hist(bins=50,figsize=(10,8))"
   ]
  },
  {
   "cell_type": "code",
   "execution_count": 6,
   "id": "56107622",
   "metadata": {},
   "outputs": [
    {
     "data": {
      "image/png": "[encoded data removed]",
      "text/plain": [
       "<Figure size 400x200 with 1 Axes>"
      ]
     },
     "metadata": {},
     "output_type": "display_data"
    }
   ],
   "source": [
    "plt.figure(figsize=(4,2))\n",
    "plt.boxplot(df[\"Avg_Stream_Width\"])\n",
    "plt.title(\"Boxplot for Avg Stream Width Distribution\")\n",
    "plt.show()"
   ]
  },
  {
   "cell_type": "markdown",
   "id": "2f1d79b7",
   "metadata": {},
   "source": [
    "Idea: check the average stream width for each category, so use groupby"
   ]
  },
  {
   "cell_type": "code",
   "execution_count": 7,
   "id": "f7c365de",
   "metadata": {},
   "outputs": [
    {
     "data": {
      "text/html": [
       "<div>\n",
       "<style scoped>\n",
       "    .dataframe tbody tr th:only-of-type {\n",
       "        vertical-align: middle;\n",
       "    }\n",
       "\n",
       "    .dataframe tbody tr th {\n",
       "        vertical-align: top;\n",
       "    }\n",
       "\n",
       "    .dataframe thead th {\n",
       "        text-align: right;\n",
       "    }\n",
       "</style>\n",
       "<table border=\"1\" class=\"dataframe\">\n",
       "  <thead>\n",
       "    <tr style=\"text-align: right;\">\n",
       "      <th></th>\n",
       "      <th>Avg_Hue</th>\n",
       "      <th>Avg_Brightness</th>\n",
       "      <th>Pull_Duration</th>\n",
       "      <th>Flow_Variance</th>\n",
       "      <th>Avg_Stream_Width</th>\n",
       "    </tr>\n",
       "  </thead>\n",
       "  <tbody>\n",
       "    <tr>\n",
       "      <th>count</th>\n",
       "      <td>40.000000</td>\n",
       "      <td>40.00000</td>\n",
       "      <td>40.000000</td>\n",
       "      <td>40.000000</td>\n",
       "      <td>40.000000</td>\n",
       "    </tr>\n",
       "    <tr>\n",
       "      <th>mean</th>\n",
       "      <td>37.817500</td>\n",
       "      <td>112.75850</td>\n",
       "      <td>26.774500</td>\n",
       "      <td>3.732100</td>\n",
       "      <td>564.526671</td>\n",
       "    </tr>\n",
       "    <tr>\n",
       "      <th>std</th>\n",
       "      <td>15.265429</td>\n",
       "      <td>14.36003</td>\n",
       "      <td>10.701916</td>\n",
       "      <td>5.014470</td>\n",
       "      <td>252.252254</td>\n",
       "    </tr>\n",
       "    <tr>\n",
       "      <th>min</th>\n",
       "      <td>19.810000</td>\n",
       "      <td>76.08000</td>\n",
       "      <td>8.640000</td>\n",
       "      <td>0.330238</td>\n",
       "      <td>148.733333</td>\n",
       "    </tr>\n",
       "    <tr>\n",
       "      <th>25%</th>\n",
       "      <td>29.080000</td>\n",
       "      <td>106.22500</td>\n",
       "      <td>23.832500</td>\n",
       "      <td>1.040631</td>\n",
       "      <td>342.850000</td>\n",
       "    </tr>\n",
       "    <tr>\n",
       "      <th>50%</th>\n",
       "      <td>33.075000</td>\n",
       "      <td>114.61500</td>\n",
       "      <td>25.600000</td>\n",
       "      <td>2.516364</td>\n",
       "      <td>600.807576</td>\n",
       "    </tr>\n",
       "    <tr>\n",
       "      <th>75%</th>\n",
       "      <td>42.165000</td>\n",
       "      <td>124.30000</td>\n",
       "      <td>28.352500</td>\n",
       "      <td>3.908330</td>\n",
       "      <td>743.113636</td>\n",
       "    </tr>\n",
       "    <tr>\n",
       "      <th>max</th>\n",
       "      <td>83.960000</td>\n",
       "      <td>136.01000</td>\n",
       "      <td>68.000000</td>\n",
       "      <td>25.313041</td>\n",
       "      <td>1080.000000</td>\n",
       "    </tr>\n",
       "  </tbody>\n",
       "</table>\n",
       "</div>"
      ],
      "text/plain": [
       "         Avg_Hue  Avg_Brightness  Pull_Duration  Flow_Variance  \\\n",
       "count  40.000000        40.00000      40.000000      40.000000   \n",
       "mean   37.817500       112.75850      26.774500       3.732100   \n",
       "std    15.265429        14.36003      10.701916       5.014470   \n",
       "min    19.810000        76.08000       8.640000       0.330238   \n",
       "25%    29.080000       106.22500      23.832500       1.040631   \n",
       "50%    33.075000       114.61500      25.600000       2.516364   \n",
       "75%    42.165000       124.30000      28.352500       3.908330   \n",
       "max    83.960000       136.01000      68.000000      25.313041   \n",
       "\n",
       "       Avg_Stream_Width  \n",
       "count         40.000000  \n",
       "mean         564.526671  \n",
       "std          252.252254  \n",
       "min          148.733333  \n",
       "25%          342.850000  \n",
       "50%          600.807576  \n",
       "75%          743.113636  \n",
       "max         1080.000000  "
      ]
     },
     "execution_count": 7,
     "metadata": {},
     "output_type": "execute_result"
    }
   ],
   "source": [
    "df.describe()"
   ]
  },
  {
   "cell_type": "markdown",
   "id": "4928ea44",
   "metadata": {},
   "source": [
    "# Train Test Split\n",
    "\n",
    "(Even with an abysmally low amount of data)"
   ]
  },
  {
   "cell_type": "code",
   "execution_count": 8,
   "id": "42abb458",
   "metadata": {},
   "outputs": [],
   "source": [
    "from sklearn.model_selection import train_test_split\n",
    "from sklearn.preprocessing import StandardScaler, LabelEncoder\n",
    "\n",
    "# Separate features and target\n",
    "X = df.drop(columns=[\"Category\", \"Video_Name\"])\n",
    "y = df[\"Category\"].to_numpy()\n",
    "\n",
    "# Encode target labels as integers (ex: good = 0, under = 1, over = 2). OneHotEncoder would be too much here. Just labels in the same column is fine\n",
    "label_encoder = LabelEncoder()\n",
    "y_encoded = label_encoder.fit_transform(y)\n",
    "\n",
    "# Scale numeric features\n",
    "scaler = StandardScaler()\n",
    "X_scaled = scaler.fit_transform(X)\n",
    "#and then on new data, just .transform()\n",
    "\n",
    "# Split the data (use scaled X!)\n",
    "X_train, X_test, y_train, y_test = train_test_split(\n",
    "    X_scaled, y_encoded, test_size=0.2, random_state=42, stratify=y_encoded\n",
    ")"
   ]
  },
  {
   "cell_type": "markdown",
   "id": "285fcfad",
   "metadata": {},
   "source": [
    "Previously, the label encoder gave an error because \"over\" only had one video, and we need at least 2. So we fixed that hehe. And stratifying makes it even better. "
   ]
  },
  {
   "cell_type": "markdown",
   "id": "5efb56ac",
   "metadata": {},
   "source": [
    "So now let's make a bare bones Classification model"
   ]
  },
  {
   "cell_type": "markdown",
   "id": "c42f8170",
   "metadata": {},
   "source": [
    "# Model Building"
   ]
  },
  {
   "cell_type": "code",
   "execution_count": 9,
   "id": "8a00d490",
   "metadata": {},
   "outputs": [],
   "source": [
    "from sklearn.linear_model import LogisticRegression, RidgeClassifier"
   ]
  },
  {
   "cell_type": "code",
   "execution_count": 10,
   "id": "15364c06",
   "metadata": {},
   "outputs": [],
   "source": [
    "#model object\n",
    "logReg = LogisticRegression()\n",
    "\n",
    "#train the model\n",
    "logReg.fit(X_train,y_train)\n",
    "\n",
    "y_pred_train_logReg = logReg.predict(X_train)"
   ]
  },
  {
   "cell_type": "markdown",
   "id": "56af799e",
   "metadata": {},
   "source": [
    "Let's get some training scores"
   ]
  },
  {
   "cell_type": "code",
   "execution_count": 11,
   "id": "2885e3cf",
   "metadata": {},
   "outputs": [],
   "source": [
    "from sklearn.metrics import confusion_matrix,accuracy_score,f1_score"
   ]
  },
  {
   "cell_type": "code",
   "execution_count": 12,
   "id": "9ff2cc84",
   "metadata": {},
   "outputs": [],
   "source": [
    "cm = confusion_matrix(y_train,y_pred_train_logReg)"
   ]
  },
  {
   "cell_type": "code",
   "execution_count": 13,
   "id": "5227eeeb",
   "metadata": {},
   "outputs": [],
   "source": [
    "import seaborn as sns"
   ]
  },
  {
   "cell_type": "code",
   "execution_count": 14,
   "id": "1a6f6179",
   "metadata": {},
   "outputs": [
    {
     "data": {
      "image/png": "[encoded data removed]",
      "text/plain": [
       "<Figure size 500x400 with 1 Axes>"
      ]
     },
     "metadata": {},
     "output_type": "display_data"
    }
   ],
   "source": [
    "plt.figure(figsize=(5,4))\n",
    "sns.heatmap(cm,annot=True,cmap=\"crest\",linewidth=0.5,xticklabels=label_encoder.classes_, yticklabels=label_encoder.classes_,cbar=False)\n",
    "plt.xlabel(\"Pred\")\n",
    "plt.ylabel(\"Actual\")\n",
    "plt.show()"
   ]
  },
  {
   "cell_type": "code",
   "execution_count": 15,
   "id": "d79e7db6",
   "metadata": {},
   "outputs": [
    {
     "data": {
      "text/plain": [
       "0.75"
      ]
     },
     "execution_count": 15,
     "metadata": {},
     "output_type": "execute_result"
    }
   ],
   "source": [
    "accuracy_score(y_train,y_pred_train_logReg)"
   ]
  },
  {
   "cell_type": "markdown",
   "id": "98240e7a",
   "metadata": {},
   "source": [
    "f1_score is good for binary only I think"
   ]
  },
  {
   "cell_type": "markdown",
   "id": "afb69b98",
   "metadata": {},
   "source": [
    "So what all did I learn? \n",
    "- Label Encoder will help with simple 0,1,2 , but you need at least 2 in each category\n",
    "- Label Encoder Object has an attribute that comes after fitting called .classes_ , and it gives an array of the classes. So I used that in the heatmap for accurate labeling. \n",
    "- l2 regularization is the default for Logistic Regression\n",
    "- My data pipeline and feature engine is duplicate-proof and will overwrite correctly!\n",
    "- This bare bones LogReg has a low train score. More work is needed to be done"
   ]
  },
  {
   "cell_type": "markdown",
   "id": "4cc3d263",
   "metadata": {},
   "source": [
    "Let's try Ridge Classifier"
   ]
  },
  {
   "cell_type": "code",
   "execution_count": 16,
   "id": "319bda60",
   "metadata": {},
   "outputs": [],
   "source": [
    "#model object\n",
    "ridgeC = RidgeClassifier()\n",
    "\n",
    "#train the model\n",
    "ridgeC.fit(X_train,y_train)\n",
    "\n",
    "y_pred_train_ridge = ridgeC.predict(X_train)"
   ]
  },
  {
   "cell_type": "markdown",
   "id": "dd4bf45c",
   "metadata": {},
   "source": [
    "### Seaborn cmap cheat sheet"
   ]
  },
  {
   "cell_type": "markdown",
   "id": "48d1b335",
   "metadata": {},
   "source": [
    "| Name        | Description                         | Preview                    |\n",
    "| ----------- | ----------------------------------- | -------------------------- |\n",
    "| `\"viridis\"` | perceptually uniform, great default | 🔰 smooth green → yellow   |\n",
    "| `\"plasma\"`  | bright purples and yellows          | 🔮 purple → orange/yellow  |\n",
    "| `\"inferno\"` | dark red to yellow                  | 🔥 black → red → yellow    |\n",
    "| `\"magma\"`   | dark purple to yellow               | 🌋 black → purple → yellow |\n",
    "| `\"crest\"`   | cool teal/blue to soft purple       | 🌊 seafoam → violet        |\n",
    "| `\"flare\"`   | bright warm tones                   | 🌅 red → orange → yellow   |\n",
    "| `\"rocket\"`  | darker version of flare             | 🚀 black → red → pink      |\n"
   ]
  },
  {
   "cell_type": "markdown",
   "id": "0aebdcda",
   "metadata": {},
   "source": [
    "| Name         | Description                     | Preview      |\n",
    "| ------------ | ------------------------------- | ------------ |\n",
    "| `\"coolwarm\"` | blue → white → red              | ❄️  → ⚪ → 🔥 |\n",
    "| `\"seismic\"`  | blue → white → red (stronger)   | 🌊  → ⚪ → 🌋 |\n",
    "| `\"vlag\"`     | soft blue to soft red           | 🩵  → ⚪ → 🩷 |\n",
    "| `\"icefire\"`  | cool to warm with high contrast | 🧊  → ⚪ → 🔥 |\n"
   ]
  },
  {
   "cell_type": "markdown",
   "id": "12838fcb",
   "metadata": {},
   "source": [
    "| Name        | Description                  |\n",
    "| ----------- | ---------------------------- |\n",
    "| `\"tab10\"`   | 10 distinct colors (default) |\n",
    "| `\"Set1\"`    | bright, bold colors          |\n",
    "| `\"Set2\"`    | softer, muted colors         |\n",
    "| `\"Pastel1\"` | soft pastel tones            |\n",
    "| `\"Dark2\"`   | deeper, high-contrast colors |\n"
   ]
  },
  {
   "cell_type": "code",
   "execution_count": 17,
   "id": "80fbf810",
   "metadata": {},
   "outputs": [
    {
     "data": {
      "image/png": "[encoded data removed]",
      "text/plain": [
       "<Figure size 500x400 with 1 Axes>"
      ]
     },
     "metadata": {},
     "output_type": "display_data"
    }
   ],
   "source": [
    "cm2 = confusion_matrix(y_train,y_pred_train_ridge)\n",
    "\n",
    "plt.figure(figsize=(5,4))\n",
    "sns.heatmap(cm2,annot=True,cmap=\"rocket\",linewidth=0.5,xticklabels=label_encoder.classes_, yticklabels=label_encoder.classes_,cbar=False)\n",
    "plt.xlabel(\"Pred\")\n",
    "plt.ylabel(\"Actual\")\n",
    "plt.show()"
   ]
  },
  {
   "cell_type": "code",
   "execution_count": 18,
   "id": "9414ad27",
   "metadata": {},
   "outputs": [
    {
     "data": {
      "text/plain": [
       "0.78125"
      ]
     },
     "execution_count": 18,
     "metadata": {},
     "output_type": "execute_result"
    }
   ],
   "source": [
    "accuracy_score(y_train,y_pred_train_ridge)"
   ]
  },
  {
   "cell_type": "markdown",
   "id": "4c1947bc",
   "metadata": {},
   "source": [
    "Since we have such less amount of data, it might be good to do GridSearchCV"
   ]
  },
  {
   "cell_type": "code",
   "execution_count": 19,
   "id": "e02aeb5f",
   "metadata": {},
   "outputs": [],
   "source": [
    "from sklearn.model_selection import GridSearchCV"
   ]
  },
  {
   "cell_type": "code",
   "execution_count": 20,
   "id": "65be4471",
   "metadata": {},
   "outputs": [
    {
     "name": "stderr",
     "output_type": "stream",
     "text": [
      "/opt/anaconda3/envs/coffeecv/lib/python3.11/site-packages/sklearn/model_selection/_split.py:805: UserWarning: The least populated class in y has only 2 members, which is less than n_splits=3.\n",
      "  warnings.warn(\n"
     ]
    }
   ],
   "source": [
    "param_grid_logReg = {\n",
    "    \"C\":[0.01,0.1,1.0,10]\n",
    "}\n",
    "\n",
    "grid = GridSearchCV(estimator=logReg,param_grid=param_grid_logReg,cv=3,n_jobs=-1,scoring=\"accuracy\")\n",
    "\n",
    "grid.fit(X_train,y_train)\n",
    "\n",
    "y_pred_train_grid_lr = grid.best_estimator_.predict(X_train)"
   ]
  },
  {
   "cell_type": "markdown",
   "id": "e340c6b7",
   "metadata": {},
   "source": [
    "We need more overextracted for better results"
   ]
  },
  {
   "cell_type": "code",
   "execution_count": 21,
   "id": "4d432810",
   "metadata": {},
   "outputs": [
    {
     "data": {
      "image/png": "[encoded data removed]",
      "text/plain": [
       "<Figure size 500x400 with 1 Axes>"
      ]
     },
     "metadata": {},
     "output_type": "display_data"
    }
   ],
   "source": [
    "cm3 = confusion_matrix(y_train,y_pred_train_grid_lr)\n",
    "\n",
    "plt.figure(figsize=(5,4))\n",
    "sns.heatmap(cm3,annot=True,cmap=\"magma\",linewidth=0.5,xticklabels=label_encoder.classes_, yticklabels=label_encoder.classes_,cbar=False)\n",
    "plt.xlabel(\"Pred\")\n",
    "plt.ylabel(\"Actual\")\n",
    "plt.show()"
   ]
  },
  {
   "cell_type": "code",
   "execution_count": 22,
   "id": "97b9d63b",
   "metadata": {},
   "outputs": [
    {
     "data": {
      "text/plain": [
       "0.6875"
      ]
     },
     "execution_count": 22,
     "metadata": {},
     "output_type": "execute_result"
    }
   ],
   "source": [
    "accuracy_score(y_train,y_pred_train_grid_lr)"
   ]
  },
  {
   "cell_type": "markdown",
   "id": "b6067820",
   "metadata": {},
   "source": [
    "Hahaaaaaaa we terrible rn "
   ]
  }
 ],
 "metadata": {
  "kernelspec": {
   "display_name": "coffeecv",
   "language": "python",
   "name": "python3"
  },
  "language_info": {
   "codemirror_mode": {
    "name": "ipython",
    "version": 3
   },
   "file_extension": ".py",
   "mimetype": "text/x-python",
   "name": "python",
   "nbconvert_exporter": "python",
   "pygments_lexer": "ipython3",
   "version": "3.11.13"
  }
 },
 "nbformat": 4,
 "nbformat_minor": 5
}
