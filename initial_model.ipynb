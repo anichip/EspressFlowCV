{
 "cells": [
  {
   "cell_type": "markdown",
   "id": "f6dd7c27",
   "metadata": {},
   "source": [
    "Now we have a features.csv! Good Work Ani!"
   ]
  },
  {
   "cell_type": "markdown",
   "id": "0ec21594",
   "metadata": {},
   "source": [
    "Time to do some EDA and model making "
   ]
  },
  {
   "cell_type": "code",
   "execution_count": 11,
   "id": "f3af8865",
   "metadata": {},
   "outputs": [],
   "source": [
    "import pandas as pd \n",
    "import matplotlib.pyplot as plt\n",
    "import numpy as np "
   ]
  },
  {
   "cell_type": "code",
   "execution_count": 12,
   "id": "d6f0f097",
   "metadata": {},
   "outputs": [
    {
     "data": {
      "text/html": [
       "<div>\n",
       "<style scoped>\n",
       "    .dataframe tbody tr th:only-of-type {\n",
       "        vertical-align: middle;\n",
       "    }\n",
       "\n",
       "    .dataframe tbody tr th {\n",
       "        vertical-align: top;\n",
       "    }\n",
       "\n",
       "    .dataframe thead th {\n",
       "        text-align: right;\n",
       "    }\n",
       "</style>\n",
       "<table border=\"1\" class=\"dataframe\">\n",
       "  <thead>\n",
       "    <tr style=\"text-align: right;\">\n",
       "      <th></th>\n",
       "      <th>Video_Name</th>\n",
       "      <th>Category</th>\n",
       "      <th>Avg_Hue</th>\n",
       "      <th>Avg_Brightness</th>\n",
       "      <th>Pull_Duration</th>\n",
       "      <th>Flow_Variance</th>\n",
       "      <th>Avg_Stream_Width</th>\n",
       "    </tr>\n",
       "  </thead>\n",
       "  <tbody>\n",
       "    <tr>\n",
       "      <th>0</th>\n",
       "      <td>vid_14_good</td>\n",
       "      <td>good</td>\n",
       "      <td>32.14</td>\n",
       "      <td>119.23</td>\n",
       "      <td>27.28</td>\n",
       "      <td>6.481446</td>\n",
       "      <td>672.993939</td>\n",
       "    </tr>\n",
       "    <tr>\n",
       "      <th>1</th>\n",
       "      <td>vid_22_good</td>\n",
       "      <td>good</td>\n",
       "      <td>35.57</td>\n",
       "      <td>125.05</td>\n",
       "      <td>25.65</td>\n",
       "      <td>5.425358</td>\n",
       "      <td>536.084848</td>\n",
       "    </tr>\n",
       "    <tr>\n",
       "      <th>2</th>\n",
       "      <td>vid_19_good</td>\n",
       "      <td>good</td>\n",
       "      <td>35.80</td>\n",
       "      <td>121.09</td>\n",
       "      <td>25.41</td>\n",
       "      <td>1.345650</td>\n",
       "      <td>329.800000</td>\n",
       "    </tr>\n",
       "    <tr>\n",
       "      <th>3</th>\n",
       "      <td>vid_1_good</td>\n",
       "      <td>good</td>\n",
       "      <td>30.46</td>\n",
       "      <td>127.24</td>\n",
       "      <td>13.75</td>\n",
       "      <td>3.486998</td>\n",
       "      <td>749.745455</td>\n",
       "    </tr>\n",
       "    <tr>\n",
       "      <th>4</th>\n",
       "      <td>vid_15_good</td>\n",
       "      <td>good</td>\n",
       "      <td>30.81</td>\n",
       "      <td>113.55</td>\n",
       "      <td>24.05</td>\n",
       "      <td>3.563808</td>\n",
       "      <td>781.863636</td>\n",
       "    </tr>\n",
       "  </tbody>\n",
       "</table>\n",
       "</div>"
      ],
      "text/plain": [
       "    Video_Name Category  Avg_Hue  Avg_Brightness  Pull_Duration  \\\n",
       "0  vid_14_good     good    32.14          119.23          27.28   \n",
       "1  vid_22_good     good    35.57          125.05          25.65   \n",
       "2  vid_19_good     good    35.80          121.09          25.41   \n",
       "3   vid_1_good     good    30.46          127.24          13.75   \n",
       "4  vid_15_good     good    30.81          113.55          24.05   \n",
       "\n",
       "   Flow_Variance  Avg_Stream_Width  \n",
       "0       6.481446        672.993939  \n",
       "1       5.425358        536.084848  \n",
       "2       1.345650        329.800000  \n",
       "3       3.486998        749.745455  \n",
       "4       3.563808        781.863636  "
      ]
     },
     "execution_count": 12,
     "metadata": {},
     "output_type": "execute_result"
    }
   ],
   "source": [
    "df = pd.read_csv(\"/Users/r3alistic/Programming/CoffeeCV/features.csv\")\n",
    "df.head()"
   ]
  },
  {
   "cell_type": "markdown",
   "id": "4f7c857a",
   "metadata": {},
   "source": [
    "Right now there are no missing values, but just drop them if there are."
   ]
  },
  {
   "cell_type": "markdown",
   "id": "d42e6cd3",
   "metadata": {},
   "source": [
    "Now just for sanity, check for duplicates"
   ]
  },
  {
   "cell_type": "code",
   "execution_count": 13,
   "id": "63ff6798",
   "metadata": {},
   "outputs": [
    {
     "data": {
      "text/plain": [
       "True"
      ]
     },
     "execution_count": 13,
     "metadata": {},
     "output_type": "execute_result"
    }
   ],
   "source": [
    "len(df[\"Video_Name\"]) == len(set(df[\"Video_Name\"]))"
   ]
  },
  {
   "cell_type": "code",
   "execution_count": 14,
   "id": "24b62be6",
   "metadata": {},
   "outputs": [
    {
     "data": {
      "text/plain": [
       "36"
      ]
     },
     "execution_count": 14,
     "metadata": {},
     "output_type": "execute_result"
    }
   ],
   "source": [
    "len(df[\"Video_Name\"])"
   ]
  },
  {
   "cell_type": "markdown",
   "id": "010fa516",
   "metadata": {},
   "source": [
    "What is some EDA visualization that I can do?"
   ]
  },
  {
   "cell_type": "markdown",
   "id": "7ecc99e5",
   "metadata": {},
   "source": [
    "Maybe I can do boxplots and historgrams for each category. I can see the central tendencies for our numerics"
   ]
  },
  {
   "cell_type": "code",
   "execution_count": 15,
   "id": "186c6337",
   "metadata": {},
   "outputs": [
    {
     "data": {
      "text/plain": [
       "array([[<Axes: title={'center': 'Avg_Hue'}>,\n",
       "        <Axes: title={'center': 'Avg_Brightness'}>],\n",
       "       [<Axes: title={'center': 'Pull_Duration'}>,\n",
       "        <Axes: title={'center': 'Flow_Variance'}>],\n",
       "       [<Axes: title={'center': 'Avg_Stream_Width'}>, <Axes: >]],\n",
       "      dtype=object)"
      ]
     },
     "execution_count": 15,
     "metadata": {},
     "output_type": "execute_result"
    },
    {
     "data": {
      "image/png": "[encoded data removed]",
      "text/plain": [
       "<Figure size 1000x800 with 6 Axes>"
      ]
     },
     "metadata": {},
     "output_type": "display_data"
    }
   ],
   "source": [
    "df[[\"Avg_Hue\",\"Avg_Brightness\",\"Pull_Duration\",\"Flow_Variance\",\"Avg_Stream_Width\"]].hist(bins=50,figsize=(10,8))"
   ]
  },
  {
   "cell_type": "code",
   "execution_count": 16,
   "id": "56107622",
   "metadata": {},
   "outputs": [
    {
     "data": {
      "image/png": "[encoded data removed]",
      "text/plain": [
       "<Figure size 400x200 with 1 Axes>"
      ]
     },
     "metadata": {},
     "output_type": "display_data"
    }
   ],
   "source": [
    "plt.figure(figsize=(4,2))\n",
    "plt.boxplot(df[\"Avg_Stream_Width\"])\n",
    "plt.title(\"Boxplot for Avg Stream Width Distribution\")\n",
    "plt.show()"
   ]
  },
  {
   "cell_type": "markdown",
   "id": "2f1d79b7",
   "metadata": {},
   "source": [
    "Idea: check the average stream width for each category, so use groupby"
   ]
  },
  {
   "cell_type": "code",
   "execution_count": 17,
   "id": "f7c365de",
   "metadata": {},
   "outputs": [
    {
     "data": {
      "text/html": [
       "<div>\n",
       "<style scoped>\n",
       "    .dataframe tbody tr th:only-of-type {\n",
       "        vertical-align: middle;\n",
       "    }\n",
       "\n",
       "    .dataframe tbody tr th {\n",
       "        vertical-align: top;\n",
       "    }\n",
       "\n",
       "    .dataframe thead th {\n",
       "        text-align: right;\n",
       "    }\n",
       "</style>\n",
       "<table border=\"1\" class=\"dataframe\">\n",
       "  <thead>\n",
       "    <tr style=\"text-align: right;\">\n",
       "      <th></th>\n",
       "      <th>Avg_Hue</th>\n",
       "      <th>Avg_Brightness</th>\n",
       "      <th>Pull_Duration</th>\n",
       "      <th>Flow_Variance</th>\n",
       "      <th>Avg_Stream_Width</th>\n",
       "    </tr>\n",
       "  </thead>\n",
       "  <tbody>\n",
       "    <tr>\n",
       "      <th>count</th>\n",
       "      <td>36.000000</td>\n",
       "      <td>36.000000</td>\n",
       "      <td>36.000000</td>\n",
       "      <td>36.000000</td>\n",
       "      <td>36.000000</td>\n",
       "    </tr>\n",
       "    <tr>\n",
       "      <th>mean</th>\n",
       "      <td>36.096667</td>\n",
       "      <td>113.029444</td>\n",
       "      <td>26.037222</td>\n",
       "      <td>4.034819</td>\n",
       "      <td>551.157581</td>\n",
       "    </tr>\n",
       "    <tr>\n",
       "      <th>std</th>\n",
       "      <td>14.564922</td>\n",
       "      <td>14.905172</td>\n",
       "      <td>10.465112</td>\n",
       "      <td>5.201091</td>\n",
       "      <td>254.047702</td>\n",
       "    </tr>\n",
       "    <tr>\n",
       "      <th>min</th>\n",
       "      <td>19.810000</td>\n",
       "      <td>76.080000</td>\n",
       "      <td>8.640000</td>\n",
       "      <td>0.330238</td>\n",
       "      <td>148.733333</td>\n",
       "    </tr>\n",
       "    <tr>\n",
       "      <th>25%</th>\n",
       "      <td>28.295000</td>\n",
       "      <td>106.555000</td>\n",
       "      <td>23.737500</td>\n",
       "      <td>1.149937</td>\n",
       "      <td>320.449242</td>\n",
       "    </tr>\n",
       "    <tr>\n",
       "      <th>50%</th>\n",
       "      <td>31.810000</td>\n",
       "      <td>116.480000</td>\n",
       "      <td>25.600000</td>\n",
       "      <td>2.906954</td>\n",
       "      <td>593.230303</td>\n",
       "    </tr>\n",
       "    <tr>\n",
       "      <th>75%</th>\n",
       "      <td>39.537500</td>\n",
       "      <td>125.262500</td>\n",
       "      <td>28.265000</td>\n",
       "      <td>4.807849</td>\n",
       "      <td>738.271212</td>\n",
       "    </tr>\n",
       "    <tr>\n",
       "      <th>max</th>\n",
       "      <td>83.960000</td>\n",
       "      <td>136.010000</td>\n",
       "      <td>68.000000</td>\n",
       "      <td>25.313041</td>\n",
       "      <td>1080.000000</td>\n",
       "    </tr>\n",
       "  </tbody>\n",
       "</table>\n",
       "</div>"
      ],
      "text/plain": [
       "         Avg_Hue  Avg_Brightness  Pull_Duration  Flow_Variance  \\\n",
       "count  36.000000       36.000000      36.000000      36.000000   \n",
       "mean   36.096667      113.029444      26.037222       4.034819   \n",
       "std    14.564922       14.905172      10.465112       5.201091   \n",
       "min    19.810000       76.080000       8.640000       0.330238   \n",
       "25%    28.295000      106.555000      23.737500       1.149937   \n",
       "50%    31.810000      116.480000      25.600000       2.906954   \n",
       "75%    39.537500      125.262500      28.265000       4.807849   \n",
       "max    83.960000      136.010000      68.000000      25.313041   \n",
       "\n",
       "       Avg_Stream_Width  \n",
       "count         36.000000  \n",
       "mean         551.157581  \n",
       "std          254.047702  \n",
       "min          148.733333  \n",
       "25%          320.449242  \n",
       "50%          593.230303  \n",
       "75%          738.271212  \n",
       "max         1080.000000  "
      ]
     },
     "execution_count": 17,
     "metadata": {},
     "output_type": "execute_result"
    }
   ],
   "source": [
    "df.describe()"
   ]
  },
  {
   "cell_type": "markdown",
   "id": "4928ea44",
   "metadata": {},
   "source": [
    "# Train Test Split\n",
    "\n",
    "(Even with an abysmally low amount of data)"
   ]
  },
  {
   "cell_type": "code",
   "execution_count": 18,
   "id": "42abb458",
   "metadata": {},
   "outputs": [],
   "source": [
    "from sklearn.model_selection import train_test_split\n",
    "from sklearn.preprocessing import StandardScaler, LabelEncoder\n",
    "\n",
    "# Separate features and target\n",
    "X = df.drop(columns=[\"Category\", \"Video_Name\"])\n",
    "y = df[\"Category\"].to_numpy()\n",
    "\n",
    "# Encode target labels as integers (ex: good = 0, under = 1, over = 2). OneHotEncoder would be too much here. Just labels in the same column is fine\n",
    "label_encoder = LabelEncoder()\n",
    "y_encoded = label_encoder.fit_transform(y)\n",
    "\n",
    "# Scale numeric features\n",
    "scaler = StandardScaler()\n",
    "X_scaled = scaler.fit_transform(X)\n",
    "#and then on new data, just .transform()\n",
    "\n",
    "# Split the data (use scaled X!)\n",
    "X_train, X_test, y_train, y_test = train_test_split(\n",
    "    X_scaled, y_encoded, test_size=0.2, random_state=42, stratify=y_encoded\n",
    ")"
   ]
  },
  {
   "cell_type": "markdown",
   "id": "285fcfad",
   "metadata": {},
   "source": [
    "Previously, the label encoder gave an error because \"over\" only had one video, and we need at least 2. So we fixed that hehe. And stratifying makes it even better. "
   ]
  },
  {
   "cell_type": "markdown",
   "id": "5efb56ac",
   "metadata": {},
   "source": [
    "So now let's make a bare bones Classification model"
   ]
  },
  {
   "cell_type": "markdown",
   "id": "c42f8170",
   "metadata": {},
   "source": [
    "# Model Building"
   ]
  },
  {
   "cell_type": "code",
   "execution_count": 19,
   "id": "8a00d490",
   "metadata": {},
   "outputs": [],
   "source": [
    "from sklearn.linear_model import LogisticRegression, RidgeClassifier"
   ]
  },
  {
   "cell_type": "code",
   "execution_count": 24,
   "id": "15364c06",
   "metadata": {},
   "outputs": [],
   "source": [
    "#model object\n",
    "logReg = LogisticRegression()\n",
    "\n",
    "#train the model\n",
    "logReg.fit(X_train,y_train)\n",
    "\n",
    "y_pred_train_logReg = logReg.predict(X_train)"
   ]
  },
  {
   "cell_type": "markdown",
   "id": "56af799e",
   "metadata": {},
   "source": [
    "Let's get some training scores"
   ]
  },
  {
   "cell_type": "code",
   "execution_count": 22,
   "id": "2885e3cf",
   "metadata": {},
   "outputs": [],
   "source": [
    "from sklearn.metrics import confusion_matrix,accuracy_score,f1_score"
   ]
  },
  {
   "cell_type": "code",
   "execution_count": 25,
   "id": "9ff2cc84",
   "metadata": {},
   "outputs": [],
   "source": [
    "cm = confusion_matrix(y_train,y_pred_train_logReg)"
   ]
  },
  {
   "cell_type": "code",
   "execution_count": 26,
   "id": "5227eeeb",
   "metadata": {},
   "outputs": [],
   "source": [
    "import seaborn as sns"
   ]
  },
  {
   "cell_type": "code",
   "execution_count": 37,
   "id": "1a6f6179",
   "metadata": {},
   "outputs": [
    {
     "data": {
      "image/png": "[encoded data removed]",
      "text/plain": [
       "<Figure size 800x600 with 1 Axes>"
      ]
     },
     "metadata": {},
     "output_type": "display_data"
    }
   ],
   "source": [
    "plt.figure(figsize=(8,6))\n",
    "sns.heatmap(cm,annot=True,cmap=\"crest\",linewidth=0.5,xticklabels=label_encoder.classes_, yticklabels=label_encoder.classes_,cbar=False)\n",
    "plt.xlabel(\"Pred\")\n",
    "plt.ylabel(\"Actual\")\n",
    "plt.show()"
   ]
  },
  {
   "cell_type": "code",
   "execution_count": 33,
   "id": "d79e7db6",
   "metadata": {},
   "outputs": [
    {
     "data": {
      "text/plain": [
       "0.7857142857142857"
      ]
     },
     "execution_count": 33,
     "metadata": {},
     "output_type": "execute_result"
    }
   ],
   "source": [
    "accuracy_score(y_train,y_pred_train_logReg)"
   ]
  },
  {
   "cell_type": "markdown",
   "id": "98240e7a",
   "metadata": {},
   "source": [
    "f1_score is good for binary only I think"
   ]
  },
  {
   "cell_type": "markdown",
   "id": "afb69b98",
   "metadata": {},
   "source": [
    "So what all did I learn? \n",
    "- Label Encoder will help with simple 0,1,2 , but you need at least 2 in each category\n",
    "- Label Encoder Object has an attribute that comes after fitting called .classes_ , and it gives an array of the classes. So I used that in the heatmap for accurate labeling. \n",
    "- l2 regularization is the default for Logistic Regression\n",
    "- My data pipeline and feature engine is duplicate-proof and will overwrite correctly!\n",
    "- This bare bones LogReg has a low train score. More work is needed to be done"
   ]
  }
 ],
 "metadata": {
  "kernelspec": {
   "display_name": "coffeecv",
   "language": "python",
   "name": "python3"
  },
  "language_info": {
   "codemirror_mode": {
    "name": "ipython",
    "version": 3
   },
   "file_extension": ".py",
   "mimetype": "text/x-python",
   "name": "python",
   "nbconvert_exporter": "python",
   "pygments_lexer": "ipython3",
   "version": "3.11.13"
  }
 },
 "nbformat": 4,
 "nbformat_minor": 5
}
